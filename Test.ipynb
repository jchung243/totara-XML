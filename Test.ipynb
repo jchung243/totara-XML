{
 "cells": [
  {
   "cell_type": "code",
   "execution_count": 7,
   "metadata": {},
   "outputs": [
    {
     "data": {
      "text/plain": [
       "['\\n\\n',\n",
       " '1\\n\\nLEARNING OBJECTIVE: Define microservices.\\n\\nQUESTION: Which TWO of the following BEST describes microservices?\\n\\nANSWERS:\\n\\nProgramming for nanocomputing\\n\\n* An architecture and an approach to writing software\\n\\n* A service that implements a single discrete function\\n\\nServices tailored to small businesses\\n\\nCORRECT FEEDBACK: Your answer is correct.\\n\\nINCORRECT FEEDBACK: Your answer is incorrect. Review the Technology Topic: Microservices course.\\n\\n\\n\\n',\n",
       " '2\\n\\nLEARNING OBJECTIVE: Identify the difference between a microservices-based approach and a traditional, monolithic approach to building applications.\\n\\nQUESTION:  What is the difference between microservices versus traditional, monolithic approaches to applications?\\n\\nANSWERS:\\n\\nMicroservices are exclusively designed for lightweight applications\\n\\n* Microservices applications consist of many microservices wired together rather than built as one single program\\n\\nWith Microservices, due to their distributed deployment, testing can become streamlined and easier\\n\\nWith a traditional, monolithic approach, applications are broken down into their smallest components\\n\\nCORRECT FEEDBACK: Your answer is correct.\\n\\nINCORRECT FEEDBACK: Your answer is incorrect. Review the Technology Topic: Microservices course.\\n\\n\\n\\n',\n",
       " '3\\n\\nLEARNING OBJECTIVE: Identify the benefits and challenges customers could have with a microservices-based infrastructure.\\n\\nQUESTION: Which TWO of the following are customer benefits of a microservices-based architecture?\\n\\nANSWERS:\\n\\n* Makes applications easier to build, test, deploy, and update\\n\\nSimple to refactor legacy applications into microservices\\n\\n* Higher resilience since each function or service can be built and deployed independently \\n\\nThe adoption of microservices always reduces complexity\\n\\nCORRECT FEEDBACK: Your answer is correct.\\n\\nINCORRECT FEEDBACK: Your answer is incorrect. Review the Technology Topic: Microservices course.\\n\\n\\n\\n',\n",
       " '4\\n\\nLEARNING OBJECTIVE: Identify the benefits and challenges customers could have with a microservices-based infrastructure.\\n\\nQUESTION: What TWO of the following are potential challenges of using microservices?\\n\\nANSWERS:\\n\\n* Organizational and cultural changes\\n\\n* Potential for increased complexity\\n\\nMicroservices are not conducive to an open source architecture\\n\\nA microservices architecture is not scalable\\n\\nCORRECT FEEDBACK: Your answer is correct.\\n\\nINCORRECT FEEDBACK: Your answer is incorrect. Review the Technology Topic: Microservices course.\\n\\n\\n\\n',\n",
       " '5\\n\\nLEARNING OBJECTIVE: Identify how organizations are using microservices.\\n\\nQUESTION: If an organization’s architecture is distributed, but their integration still relies on a centralized team managing a centralized technology like an enterprise service bus (ESB), the business goals of microservices can be:\\n\\nANSWERS:\\n\\nImproved\\n\\n* Negated\\n\\nThis is a trick question--there is no right answer\\n\\nCORRECT FEEDBACK: Your answer is correct.\\n\\nINCORRECT FEEDBACK: Your answer is incorrect. Review the Technology Topic: Microservices course.\\n\\n\\n\\n',\n",
       " '6\\n\\nLEARNING OBJECTIVE: Identify why Red Hat is the best choice for customers who want a microservices-based infrastructure.\\n\\nQUESTION: Which of the following can Red Hat help organizations do? Select all that apply.\\n\\nANSWERS:\\n\\n* Break monolithic apps into microservices\\n\\n* Manage microservices\\n\\n* Orchestrate microservices\\n\\n* Handle the data that microservices create\\n\\nCORRECT FEEDBACK: Your answer is correct.\\n\\nINCORRECT FEEDBACK: Your answer is incorrect. Review the Technology Topic: Microservices course.\\n\\n\\n\\n',\n",
       " '7\\n\\nLEARNING OBJECTIVE: Identify which Red Hat solutions are typically associated with using microservices.\\n\\nQUESTION: What Red Hat offerings are most typically associated with using microservices? \\n\\nANSWERS:\\n\\nRed Hat OpenShift Container Platform, Red Hat OpenStack Platform, Red Hat Ansible Automation, and Red Hat Open Innovation Labs\\n\\nRed Hat OpenShift Container Platform, Red Hat Fuse, Red Hat Middleware Core Services Collection, and Red Hat Ansible Automation\\n\\nRed Hat OpenShift Container Platform, Red Hat OpenStack Platform, Red Hat Fuse, and Red Hat Middleware Core Services Collection\\n\\n* Red Hat OpenShift Container Platform, Red Hat Fuse, Red Hat Middleware Core Services Collection, and Red Hat Open Innovation Labs\\n\\nCORRECT FEEDBACK: Your answer is correct.\\n\\nINCORRECT FEEDBACK: Your answer is incorrect. Review the Technology Topic: Microservices course.\\n\\n\\n\\n',\n",
       " '8\\n\\nLEARNING OBJECTIVE: Identify how microservices relate to agile integration, as well as Linux containers.\\n\\nQUESTION: What does Red Hat call an approach to connecting resources that combines integration technologies, agile delivery techniques, and cloud-native platforms to improve the speed and security of software delivery?\\n\\nANSWERS:\\n\\nMicroservices\\n\\n* Agile integration\\n\\nDigital transformation\\n\\nAPI management\\n\\nCORRECT FEEDBACK: Your answer is correct.\\n\\nINCORRECT FEEDBACK: Your answer is incorrect. Review the Technology Topic: Microservices course.\\n\\n\\n\\n',\n",
       " '9\\n\\nLEARNING OBJECTIVE: Identify how microservices relate to agile integration, as well as Linux containers.\\n\\nQUESTION: What is the ideal application deployment unit and self-contained execution environment for a microservice?\\n\\nANSWERS:\\n\\n* Linux containers\\n\\nAPIs\\n\\nService mesh\\n\\nVirtual machines\\n\\nCORRECT FEEDBACK: Your answer is correct.\\n\\nINCORRECT FEEDBACK: Your answer is incorrect. Review the Technology Topic: Microservices course.\\n\\n\\n\\n',\n",
       " '10\\n\\nLEARNING OBJECTIVE: Identify how Red Hat Fuse augments microservices architectures.\\n\\nQUESTION: What Red Hat offering integrates microservice-based apps, data, services, and devices with a robust, flexible, and easy-to-use platform?\\n\\nANSWERS:\\n\\nRed Hat 3Scale API Management\\n\\nRed Hat OpenShift Container Platform\\n\\nRed Hat Enterprise Linux\\n\\n* Red Hat Fuse\\n\\nCORRECT FEEDBACK: Your answer is correct.\\n\\nINCORRECT FEEDBACK: Your answer is incorrect. Review the Technology Topic: Microservices course.']"
      ]
     },
     "execution_count": 7,
     "metadata": {},
     "output_type": "execute_result"
    }
   ],
   "source": [
    "import docx2txt\n",
    "fulltext = docx2txt.process(\"test.docx\")\n",
    "assessment = fulltext.split(\"ASSESSMENT QUESTIONS\")\n",
    "questions = assessment[1].split(\"#\")\n",
    "questions"
   ]
  },
  {
   "cell_type": "code",
   "execution_count": null,
   "metadata": {},
   "outputs": [],
   "source": [
    "while open(\"\")\n",
    "    for question in questions:\n",
    "    "
   ]
  }
 ],
 "metadata": {
  "kernelspec": {
   "display_name": "Python 3",
   "language": "python",
   "name": "python3"
  },
  "language_info": {
   "codemirror_mode": {
    "name": "ipython",
    "version": 3
   },
   "file_extension": ".py",
   "mimetype": "text/x-python",
   "name": "python",
   "nbconvert_exporter": "python",
   "pygments_lexer": "ipython3",
   "version": "3.7.1"
  }
 },
 "nbformat": 4,
 "nbformat_minor": 2
}
