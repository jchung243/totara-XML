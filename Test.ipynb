{
 "cells": [
  {
   "cell_type": "code",
   "execution_count": 6,
   "metadata": {},
   "outputs": [],
   "source": [
    "# dependancies\n",
    "import docx2txt\n",
    "import xml.etree.ElementTree as etree\n",
    "\n",
    "# import document\n",
    "fulltext = docx2txt.process(\"test.docx\")\n",
    "\n",
    "# split document into questions list\n",
    "assessment = fulltext.split(\"ASSESSMENT QUESTIONS\")\n",
    "category = assessment[0].split(\"REVIEWERS:\")\n",
    "category_name = category[0].rstrip()\n",
    "questions = assessment[1].split(\"#\")"
   ]
  },
  {
   "cell_type": "code",
   "execution_count": 7,
   "metadata": {},
   "outputs": [
    {
     "data": {
      "text/plain": [
       "'TECHNOLOGY TOPIC: MICROSERVICES ASSESSMENT'"
      ]
     },
     "execution_count": 7,
     "metadata": {},
     "output_type": "execute_result"
    }
   ],
   "source": [
    "category_name"
   ]
  },
  {
   "cell_type": "code",
   "execution_count": 4,
   "metadata": {},
   "outputs": [],
   "source": [
    "# def xml indent formating\n",
    "def indent(elem, level=0):\n",
    "    i = \"\\n\" + level*\"  \"\n",
    "    if len(elem):\n",
    "        if not elem.text or not elem.text.strip():\n",
    "            elem.text = i + \"  \"\n",
    "        if not elem.tail or not elem.tail.strip():\n",
    "            elem.tail = i\n",
    "        for elem in elem:\n",
    "            indent(elem, level+1)\n",
    "        if not elem.tail or not elem.tail.strip():\n",
    "            elem.tail = i\n",
    "    else:\n",
    "        if level and (not elem.tail or not elem.tail.strip()):\n",
    "            elem.tail = i\n",
    "\n",
    "# def get_correct\n",
    "def get_correct(answers):\n",
    "    corr = []\n",
    "    for a in answers:\n",
    "        if a[0] == \"*\":\n",
    "            corr.append(a)\n",
    "    return corr\n",
    "\n",
    "# def get_answers\n",
    "def get_answers(answers):\n",
    "    ans = []\n",
    "    for a in answers:\n",
    "        if len(a) > 1:\n",
    "            ans.append(a)\n",
    "    return ans"
   ]
  },
  {
   "cell_type": "code",
   "execution_count": 79,
   "metadata": {},
   "outputs": [],
   "source": [
    "# puttin it all together\n",
    "\n",
    "# zero out xml and quiz objects, define quiz as element\n",
    "xml = 0\n",
    "quiz = 0\n",
    "quiz = etree.Element(\"quiz\")\n",
    "\n",
    "# add lms category\n",
    "question = etree.SubElement(quiz, \"question\", type=\"category\")\n",
    "category = etree.SubElement(question, \"category\")\n",
    "etree.SubElement(category, \"text\").text = \"$system$/\"+category_name"
   ]
  },
  {
   "cell_type": "code",
   "execution_count": 80,
   "metadata": {},
   "outputs": [
    {
     "data": {
      "text/plain": [
       "'1\\n\\nLEARNING OBJECTIVE: Define microservices.\\n\\nQUESTION: Which TWO of the following BEST describes microservices?\\n\\nANSWERS:\\n\\nProgramming for nanocomputing\\n\\n* An architecture and an approach to writing software\\n\\n* A service that implements a single discrete function\\n\\nServices tailored to small businesses\\n\\nCORRECT FEEDBACK: Your answer is correct.\\n\\nINCORRECT FEEDBACK: Your answer is incorrect. Review the Technology Topic: Microservices course.\\n\\n\\n\\n'"
      ]
     },
     "execution_count": 80,
     "metadata": {},
     "output_type": "execute_result"
    }
   ],
   "source": [
    "i = questions[1]\n",
    "i"
   ]
  },
  {
   "cell_type": "code",
   "execution_count": 81,
   "metadata": {},
   "outputs": [],
   "source": [
    "# separate question string\n",
    "q_string = i.split(\"QUESTION:\")\n",
    "q_text = q_string[1].split(\"ANSWERS:\")\n",
    "q_answers = q_text[1].split(\"CORRECT FEEDBACK:\")\n",
    "answers_list = q_answers[0].split(\"\\n\\n\")\n",
    "correct = q_answers[1].split(\"IN\")\n",
    "correct = correct[0].rstrip()\n",
    "incorrect = q_answers[2]\n",
    "q = q_text[0].rstrip()\n",
    "        "
   ]
  },
  {
   "cell_type": "code",
   "execution_count": 82,
   "metadata": {},
   "outputs": [
    {
     "data": {
      "text/plain": [
       "['1\\n\\nLEARNING OBJECTIVE: Define microservices.\\n\\n',\n",
       " ' Which TWO of the following BEST describes microservices?\\n\\nANSWERS:\\n\\nProgramming for nanocomputing\\n\\n* An architecture and an approach to writing software\\n\\n* A service that implements a single discrete function\\n\\nServices tailored to small businesses\\n\\nCORRECT FEEDBACK: Your answer is correct.\\n\\nINCORRECT FEEDBACK: Your answer is incorrect. Review the Technology Topic: Microservices course.\\n\\n\\n\\n']"
      ]
     },
     "execution_count": 82,
     "metadata": {},
     "output_type": "execute_result"
    }
   ],
   "source": [
    "q_string"
   ]
  },
  {
   "cell_type": "code",
   "execution_count": 83,
   "metadata": {},
   "outputs": [
    {
     "data": {
      "text/plain": [
       "[' Which TWO of the following BEST describes microservices?\\n\\n',\n",
       " '\\n\\nProgramming for nanocomputing\\n\\n* An architecture and an approach to writing software\\n\\n* A service that implements a single discrete function\\n\\nServices tailored to small businesses\\n\\nCORRECT FEEDBACK: Your answer is correct.\\n\\nINCORRECT FEEDBACK: Your answer is incorrect. Review the Technology Topic: Microservices course.\\n\\n\\n\\n']"
      ]
     },
     "execution_count": 83,
     "metadata": {},
     "output_type": "execute_result"
    }
   ],
   "source": [
    "q_text"
   ]
  },
  {
   "cell_type": "code",
   "execution_count": 84,
   "metadata": {},
   "outputs": [
    {
     "data": {
      "text/plain": [
       "['\\n\\nProgramming for nanocomputing\\n\\n* An architecture and an approach to writing software\\n\\n* A service that implements a single discrete function\\n\\nServices tailored to small businesses\\n\\n',\n",
       " ' Your answer is correct.\\n\\nIN',\n",
       " ' Your answer is incorrect. Review the Technology Topic: Microservices course.\\n\\n\\n\\n']"
      ]
     },
     "execution_count": 84,
     "metadata": {},
     "output_type": "execute_result"
    }
   ],
   "source": [
    "q_answers"
   ]
  },
  {
   "cell_type": "code",
   "execution_count": 85,
   "metadata": {},
   "outputs": [
    {
     "data": {
      "text/plain": [
       "['',\n",
       " 'Programming for nanocomputing',\n",
       " '* An architecture and an approach to writing software',\n",
       " '* A service that implements a single discrete function',\n",
       " 'Services tailored to small businesses',\n",
       " '']"
      ]
     },
     "execution_count": 85,
     "metadata": {},
     "output_type": "execute_result"
    }
   ],
   "source": [
    "answers_list"
   ]
  },
  {
   "cell_type": "code",
   "execution_count": 86,
   "metadata": {},
   "outputs": [
    {
     "data": {
      "text/plain": [
       "' Your answer is correct.'"
      ]
     },
     "execution_count": 86,
     "metadata": {},
     "output_type": "execute_result"
    }
   ],
   "source": [
    "correct = q_answers[1].split(\"IN\")\n",
    "correct = correct[0].rstrip()\n",
    "correct"
   ]
  },
  {
   "cell_type": "code",
   "execution_count": 87,
   "metadata": {},
   "outputs": [
    {
     "data": {
      "text/plain": [
       "' Your answer is incorrect. Review the Technology Topic: Microservices course.\\n\\n\\n\\n'"
      ]
     },
     "execution_count": 87,
     "metadata": {},
     "output_type": "execute_result"
    }
   ],
   "source": [
    "incorrect"
   ]
  },
  {
   "cell_type": "code",
   "execution_count": 88,
   "metadata": {
    "scrolled": true
   },
   "outputs": [
    {
     "data": {
      "text/plain": [
       "' Which TWO of the following BEST describes microservices?'"
      ]
     },
     "execution_count": 88,
     "metadata": {},
     "output_type": "execute_result"
    }
   ],
   "source": [
    "q"
   ]
  },
  {
   "cell_type": "code",
   "execution_count": 89,
   "metadata": {},
   "outputs": [],
   "source": [
    "# call answer logic functions\n",
    "answers = get_answers(answers_list)\n",
    "corr_ans = get_correct(answers)"
   ]
  },
  {
   "cell_type": "code",
   "execution_count": 90,
   "metadata": {},
   "outputs": [
    {
     "data": {
      "text/plain": [
       "['Programming for nanocomputing',\n",
       " '* An architecture and an approach to writing software',\n",
       " '* A service that implements a single discrete function',\n",
       " 'Services tailored to small businesses']"
      ]
     },
     "execution_count": 90,
     "metadata": {},
     "output_type": "execute_result"
    }
   ],
   "source": [
    "answers"
   ]
  },
  {
   "cell_type": "code",
   "execution_count": 91,
   "metadata": {},
   "outputs": [
    {
     "data": {
      "text/plain": [
       "['* An architecture and an approach to writing software',\n",
       " '* A service that implements a single discrete function']"
      ]
     },
     "execution_count": 91,
     "metadata": {},
     "output_type": "execute_result"
    }
   ],
   "source": [
    "corr_ans"
   ]
  },
  {
   "cell_type": "code",
   "execution_count": 92,
   "metadata": {},
   "outputs": [],
   "source": [
    "# build question\n",
    "question = etree.SubElement(quiz, \"question\", type=\"multichoice\")\n",
    "        \n",
    "# name question\n",
    "name = etree.SubElement(question, \"name\")\n",
    "etree.SubElement(name, \"text\").text = q + \"(\" + str(questions.index(i)) + \")\"\n",
    "\n",
    "# actual question text\n",
    "questiontext = etree.SubElement(question, \"questiontext\")\n",
    "etree.SubElement(questiontext, \"text\").text = q\n",
    "\n",
    "# feedback\n",
    "generalfeedback = etree.SubElement(question, \"generalfeedback\")\n",
    "etree.SubElement(generalfeedback, \"text\").text = \"\"\n",
    "\n",
    "# meta\n",
    "etree.SubElement(question, \"defaultgrade\").text = \"1.0000000\"\n",
    "etree.SubElement(question, \"penalty\").text = \"0.0000000\"\n",
    "etree.SubElement(question, \"hidden\").text = \"0\"\n",
    "if len(corr_ans) > 1:\n",
    "    etree.SubElement(question, \"single\").text = \"false\"\n",
    "else:\n",
    "    etree.SubElement(question, \"single\").text = \"true\"\n",
    "etree.SubElement(question, \"shuffleanswers\").text = \"true\"\n",
    "etree.SubElement(question, \"answernmbering\").text = \"abc\"\n",
    "\n",
    "# conditional feedback\n",
    "correctfeedback = etree.SubElement(question, \"correctfeedback\")\n",
    "etree.SubElement(correctfeedback, \"text\").text = correct\n",
    "\n",
    "partiallycorrectfeedback = etree.SubElement(question, \"partiallycorrectfeedback\")\n",
    "etree.SubElement(partiallycorrectfeedback, \"text\").text = \"Your answer is partially correct.\"\n",
    "\n",
    "incorrectfeedback = etree.SubElement(question, \"incorrectfeedback\")\n",
    "etree.SubElement(incorrectfeedback, \"text\").text = incorrect\n",
    "\n",
    "\n",
    "        "
   ]
  },
  {
   "cell_type": "code",
   "execution_count": 93,
   "metadata": {},
   "outputs": [
    {
     "data": {
      "text/plain": [
       "['Programming for nanocomputing']"
      ]
     },
     "execution_count": 93,
     "metadata": {},
     "output_type": "execute_result"
    }
   ],
   "source": [
    "answers[0]\n",
    "a = answers[0].split(\"* \")\n",
    "a"
   ]
  },
  {
   "cell_type": "code",
   "execution_count": 94,
   "metadata": {},
   "outputs": [],
   "source": [
    "#answers\n",
    "for a in answers:\n",
    "    frac = str((len(corr_ans)/len(answers))*100)\n",
    "    if len(corr_ans) == 1:\n",
    "        if a in corr_ans:\n",
    "            answer = etree.SubElement(question, \"answer\", fraction=\"100\")\n",
    "            ans_text = a.split(\"* \")\n",
    "            etree.SubElement(answer, \"text\").text = ans_text[1]\n",
    "        else:\n",
    "            answer = etree.SubElement(question, \"answer\", fraction=\"0\")\n",
    "            etree.SubElement(answer, \"text\").text = a\n",
    "    else:\n",
    "        if a in corr_ans:\n",
    "            answer = etree.SubElement(question, \"answer\", fraction=frac)\n",
    "            ans_text = a.split(\"* \")\n",
    "            etree.SubElement(answer, \"text\").text = ans_text[1]\n",
    "        else:\n",
    "            answer = etree.SubElement(question, \"answer\", fraction=\"0\")\n",
    "            etree.SubElement(answer, \"text\").text = a"
   ]
  },
  {
   "cell_type": "code",
   "execution_count": 95,
   "metadata": {},
   "outputs": [
    {
     "data": {
      "text/plain": [
       "['', 'A service that implements a single discrete function']"
      ]
     },
     "execution_count": 95,
     "metadata": {},
     "output_type": "execute_result"
    }
   ],
   "source": [
    "ans_text"
   ]
  },
  {
   "cell_type": "code",
   "execution_count": 96,
   "metadata": {},
   "outputs": [],
   "source": [
    "# call formatter, export to file\n",
    "xml = etree.ElementTree(quiz)\n",
    "indent(quiz)\n",
    "xml.write(\"test.xml\", encoding='utf-8', xml_declaration=True) # ENCODING MUST BE UTF-8, DECLARATION MUST BE TRUE"
   ]
  },
  {
   "cell_type": "code",
   "execution_count": 59,
   "metadata": {},
   "outputs": [],
   "source": [
    "\n",
    "# iterate through questions\n",
    "for i in questions:\n",
    "    if  len(i) > 10:\n",
    "        \n",
    "        # separate question string\n",
    "        q_string = i.split(\"QUESTION:\")\n",
    "        q_text = q_string[1].split(\"ANSWERS:\")\n",
    "        q_answers = q_text[1].split(\"CORRECT FEEDBACK:\")\n",
    "        answers_list = q_answers[0].split(\"\\n\\n\")\n",
    "        correct = q_answers[1].split(\"IN\")\n",
    "        correct = correct[0].rstrip()\n",
    "        incorrect = q_answers[2]\n",
    "        q = q_text[0].rstrip()\n",
    "        \n",
    "        # call answer logic functions\n",
    "        answers = get_answers(answers_list)\n",
    "        corr_ans = get_correct(answers)\n",
    "\n",
    "        # build question\n",
    "        question = etree.SubElement(quiz, \"question\", type=\"multichoice\")\n",
    "        \n",
    "        # name question\n",
    "        name = etree.SubElement(question, \"name\")\n",
    "        etree.SubElement(name, \"text\").text = q + \"(\" + str(questions.index(i)) + \")\"\n",
    "        \n",
    "        # actual question text\n",
    "        questiontext = etree.SubElement(question, \"questiontext\")\n",
    "        etree.SubElement(questiontext, \"text\").text = q\n",
    "        \n",
    "        # feedback\n",
    "        generalfeedback = etree.SubElement(question, \"generalfeedback\")\n",
    "        etree.SubElement(generalfeedback, \"text\").text = \"\"\n",
    "        \n",
    "        # meta\n",
    "        etree.SubElement(question, \"defaultgrade\").text = \"1.0000000\"\n",
    "        etree.SubElement(question, \"penalty\").text = \"0.0000000\"\n",
    "        etree.SubElement(question, \"hidden\").text = \"0\"\n",
    "        if len(corr_ans) > 1:\n",
    "            etree.SubElement(question, \"single\").text = \"false\"\n",
    "        else:\n",
    "            etree.SubElement(question, \"single\").text = \"true\"\n",
    "        etree.SubElement(question, \"shuffleanswers\").text = \"true\"\n",
    "        etree.SubElement(question, \"answernmbering\").text = \"abc\"\n",
    "        \n",
    "        # conditional feedback\n",
    "        correctfeedback = etree.SubElement(question, \"correctfeedback\")\n",
    "        etree.SubElement(correctfeedback, \"text\").text = correct\n",
    "\n",
    "        partiallycorrectfeedback = etree.SubElement(question, \"partiallycorrectfeedback\")\n",
    "        etree.SubElement(partiallycorrectfeedback, \"text\").text = \"Your answer is partially correct.\"\n",
    "\n",
    "        incorrectfeedback = etree.SubElement(question, \"incorrectfeedback\")\n",
    "        etree.SubElement(incorrectfeedback, \"text\").text = incorrect\n",
    "        \n",
    "\n",
    "        #answers\n",
    "        for a in answers:\n",
    "            frac = str((len(corr_ans)/len(answers))*100)\n",
    "            if len(corr_ans) == 1:\n",
    "                if a in corr_ans:\n",
    "                    answer = etree.SubElement(question, \"answer\", fraction=\"100\")\n",
    "                    ans_text = a.split(\"* \")\n",
    "                    etree.SubElement(answer, \"text\").text = ans_text[0]\n",
    "                else:\n",
    "                    answer = etree.SubElement(question, \"answer\", fraction=\"0\")\n",
    "                    etree.SubElement(answer, \"text\").text = a\n",
    "            else:\n",
    "                if a in corr_ans:\n",
    "                    answer = etree.SubElement(question, \"answer\", fraction=frac)\n",
    "                    ans_text = a.split(\"* \")\n",
    "                    etree.SubElement(answer, \"text\").text = ans_text[1]\n",
    "                else:\n",
    "                    answer = etree.SubElement(question, \"answer\", fraction=\"-\"+frac)\n",
    "                    etree.SubElement(answer, \"text\").text = a"
   ]
  },
  {
   "cell_type": "code",
   "execution_count": 60,
   "metadata": {},
   "outputs": [],
   "source": [
    "# call formatter, export to file\n",
    "xml = etree.ElementTree(quiz)\n",
    "indent(quiz)\n",
    "xml.write(\"test.xml\", encoding='utf-8', xml_declaration=True) # ENCODING MUST BE UTF-8, DECLARATION MUST BE TRUE"
   ]
  }
 ],
 "metadata": {
  "kernelspec": {
   "display_name": "Python 3",
   "language": "python",
   "name": "python3"
  },
  "language_info": {
   "codemirror_mode": {
    "name": "ipython",
    "version": 3
   },
   "file_extension": ".py",
   "mimetype": "text/x-python",
   "name": "python",
   "nbconvert_exporter": "python",
   "pygments_lexer": "ipython3",
   "version": "3.7.1"
  }
 },
 "nbformat": 4,
 "nbformat_minor": 2
}
